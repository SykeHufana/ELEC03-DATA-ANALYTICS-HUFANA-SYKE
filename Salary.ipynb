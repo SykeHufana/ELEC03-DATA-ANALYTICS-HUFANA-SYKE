{
 "cells": [
  {
   "cell_type": "code",
   "execution_count": 1,
   "id": "993c0297-a7c1-496f-bbd2-b9dff2780f7f",
   "metadata": {},
   "outputs": [],
   "source": [
    "import pandas as pd\n",
    "import numpy as np\n",
    "import matplotlib.pyplot as plt\n",
    "import seaborn as sns\n",
    "from sklearn.model_selection import train_test_split\n",
    "from sklearn.linear_model import LinearRegression\n",
    "from sklearn.metrics import r2_score, mean_squared_error\n",
    "from sklearn.preprocessing import LabelEncoder"
   ]
  },
  {
   "cell_type": "code",
   "execution_count": 2,
   "id": "33ea85ff-2440-41c6-a7f8-e8c1208cee4c",
   "metadata": {},
   "outputs": [],
   "source": [
    "df = pd.read_csv('datasets//Data Science Salary 2021 to 2023.csv')"
   ]
  },
  {
   "cell_type": "code",
   "execution_count": 3,
   "id": "00772f0a-66a1-497c-a124-cfa3fdcb47d7",
   "metadata": {},
   "outputs": [
    {
     "data": {
      "text/html": [
       "<div>\n",
       "<style scoped>\n",
       "    .dataframe tbody tr th:only-of-type {\n",
       "        vertical-align: middle;\n",
       "    }\n",
       "\n",
       "    .dataframe tbody tr th {\n",
       "        vertical-align: top;\n",
       "    }\n",
       "\n",
       "    .dataframe thead th {\n",
       "        text-align: right;\n",
       "    }\n",
       "</style>\n",
       "<table border=\"1\" class=\"dataframe\">\n",
       "  <thead>\n",
       "    <tr style=\"text-align: right;\">\n",
       "      <th></th>\n",
       "      <th>work_year</th>\n",
       "      <th>experience_level</th>\n",
       "      <th>employment_type</th>\n",
       "      <th>job_title</th>\n",
       "      <th>salary</th>\n",
       "      <th>salary_currency</th>\n",
       "      <th>salary_in_usd</th>\n",
       "      <th>company_location</th>\n",
       "      <th>company_size</th>\n",
       "    </tr>\n",
       "  </thead>\n",
       "  <tbody>\n",
       "    <tr>\n",
       "      <th>0</th>\n",
       "      <td>2023</td>\n",
       "      <td>EN</td>\n",
       "      <td>FT</td>\n",
       "      <td>Applied Scientist</td>\n",
       "      <td>213660</td>\n",
       "      <td>USD</td>\n",
       "      <td>213660</td>\n",
       "      <td>US</td>\n",
       "      <td>L</td>\n",
       "    </tr>\n",
       "    <tr>\n",
       "      <th>1</th>\n",
       "      <td>2023</td>\n",
       "      <td>EN</td>\n",
       "      <td>FT</td>\n",
       "      <td>Applied Scientist</td>\n",
       "      <td>130760</td>\n",
       "      <td>USD</td>\n",
       "      <td>130760</td>\n",
       "      <td>US</td>\n",
       "      <td>L</td>\n",
       "    </tr>\n",
       "    <tr>\n",
       "      <th>2</th>\n",
       "      <td>2023</td>\n",
       "      <td>EN</td>\n",
       "      <td>FT</td>\n",
       "      <td>Data Quality Analyst</td>\n",
       "      <td>100000</td>\n",
       "      <td>USD</td>\n",
       "      <td>100000</td>\n",
       "      <td>NG</td>\n",
       "      <td>L</td>\n",
       "    </tr>\n",
       "    <tr>\n",
       "      <th>3</th>\n",
       "      <td>2023</td>\n",
       "      <td>EN</td>\n",
       "      <td>FT</td>\n",
       "      <td>Compliance Data Analyst</td>\n",
       "      <td>30000</td>\n",
       "      <td>USD</td>\n",
       "      <td>30000</td>\n",
       "      <td>NG</td>\n",
       "      <td>L</td>\n",
       "    </tr>\n",
       "    <tr>\n",
       "      <th>4</th>\n",
       "      <td>2023</td>\n",
       "      <td>EN</td>\n",
       "      <td>FT</td>\n",
       "      <td>Applied Scientist</td>\n",
       "      <td>204620</td>\n",
       "      <td>USD</td>\n",
       "      <td>204620</td>\n",
       "      <td>US</td>\n",
       "      <td>L</td>\n",
       "    </tr>\n",
       "    <tr>\n",
       "      <th>...</th>\n",
       "      <td>...</td>\n",
       "      <td>...</td>\n",
       "      <td>...</td>\n",
       "      <td>...</td>\n",
       "      <td>...</td>\n",
       "      <td>...</td>\n",
       "      <td>...</td>\n",
       "      <td>...</td>\n",
       "      <td>...</td>\n",
       "    </tr>\n",
       "    <tr>\n",
       "      <th>3756</th>\n",
       "      <td>2020</td>\n",
       "      <td>SE</td>\n",
       "      <td>FT</td>\n",
       "      <td>Principal Data Scientist</td>\n",
       "      <td>130000</td>\n",
       "      <td>EUR</td>\n",
       "      <td>148261</td>\n",
       "      <td>DE</td>\n",
       "      <td>M</td>\n",
       "    </tr>\n",
       "    <tr>\n",
       "      <th>3757</th>\n",
       "      <td>2020</td>\n",
       "      <td>SE</td>\n",
       "      <td>FT</td>\n",
       "      <td>Data Scientist</td>\n",
       "      <td>80000</td>\n",
       "      <td>EUR</td>\n",
       "      <td>91237</td>\n",
       "      <td>AT</td>\n",
       "      <td>S</td>\n",
       "    </tr>\n",
       "    <tr>\n",
       "      <th>3758</th>\n",
       "      <td>2020</td>\n",
       "      <td>SE</td>\n",
       "      <td>FT</td>\n",
       "      <td>Data Science Manager</td>\n",
       "      <td>190200</td>\n",
       "      <td>USD</td>\n",
       "      <td>190200</td>\n",
       "      <td>US</td>\n",
       "      <td>M</td>\n",
       "    </tr>\n",
       "    <tr>\n",
       "      <th>3759</th>\n",
       "      <td>2020</td>\n",
       "      <td>SE</td>\n",
       "      <td>FT</td>\n",
       "      <td>Machine Learning Engineer</td>\n",
       "      <td>40000</td>\n",
       "      <td>EUR</td>\n",
       "      <td>45618</td>\n",
       "      <td>HR</td>\n",
       "      <td>S</td>\n",
       "    </tr>\n",
       "    <tr>\n",
       "      <th>3760</th>\n",
       "      <td>2020</td>\n",
       "      <td>SE</td>\n",
       "      <td>FT</td>\n",
       "      <td>Data Scientist</td>\n",
       "      <td>412000</td>\n",
       "      <td>USD</td>\n",
       "      <td>412000</td>\n",
       "      <td>US</td>\n",
       "      <td>L</td>\n",
       "    </tr>\n",
       "  </tbody>\n",
       "</table>\n",
       "<p>3761 rows × 9 columns</p>\n",
       "</div>"
      ],
      "text/plain": [
       "      work_year experience_level employment_type                  job_title  \\\n",
       "0          2023               EN              FT          Applied Scientist   \n",
       "1          2023               EN              FT          Applied Scientist   \n",
       "2          2023               EN              FT       Data Quality Analyst   \n",
       "3          2023               EN              FT    Compliance Data Analyst   \n",
       "4          2023               EN              FT          Applied Scientist   \n",
       "...         ...              ...             ...                        ...   \n",
       "3756       2020               SE              FT   Principal Data Scientist   \n",
       "3757       2020               SE              FT             Data Scientist   \n",
       "3758       2020               SE              FT       Data Science Manager   \n",
       "3759       2020               SE              FT  Machine Learning Engineer   \n",
       "3760       2020               SE              FT             Data Scientist   \n",
       "\n",
       "      salary salary_currency  salary_in_usd company_location company_size  \n",
       "0     213660             USD         213660               US            L  \n",
       "1     130760             USD         130760               US            L  \n",
       "2     100000             USD         100000               NG            L  \n",
       "3      30000             USD          30000               NG            L  \n",
       "4     204620             USD         204620               US            L  \n",
       "...      ...             ...            ...              ...          ...  \n",
       "3756  130000             EUR         148261               DE            M  \n",
       "3757   80000             EUR          91237               AT            S  \n",
       "3758  190200             USD         190200               US            M  \n",
       "3759   40000             EUR          45618               HR            S  \n",
       "3760  412000             USD         412000               US            L  \n",
       "\n",
       "[3761 rows x 9 columns]"
      ]
     },
     "execution_count": 3,
     "metadata": {},
     "output_type": "execute_result"
    }
   ],
   "source": [
    "df"
   ]
  },
  {
   "cell_type": "code",
   "execution_count": 4,
   "id": "5e0a8e37-b965-4441-8d05-829ffded9064",
   "metadata": {},
   "outputs": [
    {
     "data": {
      "text/plain": [
       "<bound method DataFrame.info of       work_year experience_level employment_type                  job_title  \\\n",
       "0          2023               EN              FT          Applied Scientist   \n",
       "1          2023               EN              FT          Applied Scientist   \n",
       "2          2023               EN              FT       Data Quality Analyst   \n",
       "3          2023               EN              FT    Compliance Data Analyst   \n",
       "4          2023               EN              FT          Applied Scientist   \n",
       "...         ...              ...             ...                        ...   \n",
       "3756       2020               SE              FT   Principal Data Scientist   \n",
       "3757       2020               SE              FT             Data Scientist   \n",
       "3758       2020               SE              FT       Data Science Manager   \n",
       "3759       2020               SE              FT  Machine Learning Engineer   \n",
       "3760       2020               SE              FT             Data Scientist   \n",
       "\n",
       "      salary salary_currency  salary_in_usd company_location company_size  \n",
       "0     213660             USD         213660               US            L  \n",
       "1     130760             USD         130760               US            L  \n",
       "2     100000             USD         100000               NG            L  \n",
       "3      30000             USD          30000               NG            L  \n",
       "4     204620             USD         204620               US            L  \n",
       "...      ...             ...            ...              ...          ...  \n",
       "3756  130000             EUR         148261               DE            M  \n",
       "3757   80000             EUR          91237               AT            S  \n",
       "3758  190200             USD         190200               US            M  \n",
       "3759   40000             EUR          45618               HR            S  \n",
       "3760  412000             USD         412000               US            L  \n",
       "\n",
       "[3761 rows x 9 columns]>"
      ]
     },
     "execution_count": 4,
     "metadata": {},
     "output_type": "execute_result"
    }
   ],
   "source": [
    "df.info"
   ]
  },
  {
   "cell_type": "markdown",
   "id": "5e782002-dd86-4243-92e2-1334db139811",
   "metadata": {},
   "source": [
    "<h1>Part 2: Exploratory Data Analysis (EDA)"
   ]
  },
  {
   "cell_type": "markdown",
   "id": "a948e6e8-57f7-4abd-8e8c-cb1fedabdfaa",
   "metadata": {},
   "source": [
    "<h2>1. How many unique job titles are there?"
   ]
  },
  {
   "cell_type": "code",
   "execution_count": 5,
   "id": "f5dc71ca-6390-480b-a1d9-e84125057d80",
   "metadata": {},
   "outputs": [
    {
     "data": {
      "text/plain": [
       "work_year\n",
       "2020     92302.631579\n",
       "2021     94087.208696\n",
       "2022    133379.510804\n",
       "2023    148954.558413\n",
       "Name: salary_in_usd, dtype: float64"
      ]
     },
     "execution_count": 5,
     "metadata": {},
     "output_type": "execute_result"
    }
   ],
   "source": [
    "# Your EDA code here\n",
    "df.groupby(['work_year'])['salary_in_usd'].mean()"
   ]
  },
  {
   "cell_type": "markdown",
   "id": "e6dd02c9-9d23-4843-9472-76e0d2d6a3a8",
   "metadata": {},
   "source": [
    "<h2>The average salary per work year increases througout the year"
   ]
  },
  {
   "cell_type": "code",
   "execution_count": 6,
   "id": "2747f64d-239f-4811-8e3d-c0190ae159b7",
   "metadata": {},
   "outputs": [
    {
     "data": {
      "image/png": "[encoded data removed]",
      "text/plain": [
       "<Figure size 640x480 with 1 Axes>"
      ]
     },
     "metadata": {},
     "output_type": "display_data"
    }
   ],
   "source": [
    "salary_per_exp = df.groupby(['experience_level'])['salary_in_usd'].mean()\n",
    "salary_per_exp.plot(kind='bar',color='green')\n",
    "\n",
    "plt.title('Average Salary by Experience Levels')\n",
    "plt.xlabel('Experience levels')\n",
    "plt.ylabel('Average salary')\n",
    "plt.xticks(rotation=45)\n",
    "plt.show()"
   ]
  },
  {
   "cell_type": "markdown",
   "id": "c4715614-3dda-410a-ad25-a4fe650fb67b",
   "metadata": {},
   "source": [
    "<h2>🧹 Part 3: Data Preprocessing for Linear Regression\n",
    "We will predict salary_in_usd using only numerical or encoded categorical features.\n",
    "\n",
    "<h2/>Steps:\n",
    "Select features: work_year, experience_level, and optionally job_title (you decide!)\n",
    "Encode categorical variables (experience_level) using LabelEncoder or pd.get_dummies()\n",
    "Define X (features) and y (target = salary_in_usd)\n",
    "<h2>⚠️ Important: Do NOT include salary, salary_currency, or salary_in_usd in your features!<h2>"
   ]
  },
  {
   "cell_type": "code",
   "execution_count": 11,
   "id": "b7850703-1a81-46f5-99f0-c8d509041905",
   "metadata": {},
   "outputs": [
    {
     "data": {
      "text/html": [
       "<div>\n",
       "<style scoped>\n",
       "    .dataframe tbody tr th:only-of-type {\n",
       "        vertical-align: middle;\n",
       "    }\n",
       "\n",
       "    .dataframe tbody tr th {\n",
       "        vertical-align: top;\n",
       "    }\n",
       "\n",
       "    .dataframe thead th {\n",
       "        text-align: right;\n",
       "    }\n",
       "</style>\n",
       "<table border=\"1\" class=\"dataframe\">\n",
       "  <thead>\n",
       "    <tr style=\"text-align: right;\">\n",
       "      <th></th>\n",
       "      <th>work_year</th>\n",
       "      <th>experience_level_encoded</th>\n",
       "    </tr>\n",
       "  </thead>\n",
       "  <tbody>\n",
       "    <tr>\n",
       "      <th>0</th>\n",
       "      <td>2023</td>\n",
       "      <td>0</td>\n",
       "    </tr>\n",
       "    <tr>\n",
       "      <th>1</th>\n",
       "      <td>2023</td>\n",
       "      <td>0</td>\n",
       "    </tr>\n",
       "    <tr>\n",
       "      <th>2</th>\n",
       "      <td>2023</td>\n",
       "      <td>0</td>\n",
       "    </tr>\n",
       "    <tr>\n",
       "      <th>3</th>\n",
       "      <td>2023</td>\n",
       "      <td>0</td>\n",
       "    </tr>\n",
       "    <tr>\n",
       "      <th>4</th>\n",
       "      <td>2023</td>\n",
       "      <td>0</td>\n",
       "    </tr>\n",
       "  </tbody>\n",
       "</table>\n",
       "</div>"
      ],
      "text/plain": [
       "   work_year  experience_level_encoded\n",
       "0       2023                         0\n",
       "1       2023                         0\n",
       "2       2023                         0\n",
       "3       2023                         0\n",
       "4       2023                         0"
      ]
     },
     "execution_count": 11,
     "metadata": {},
     "output_type": "execute_result"
    }
   ],
   "source": [
    "le = LabelEncoder()\n",
    "df['experience_level_encoded'] = le.fit_transform(df['experience_level'])\n",
    "\n",
    "features = ['work_year', 'experience_level_encoded']\n",
    "X = df[features]\n",
    "y = df['salary_in_usd']\n",
    "\n",
    "X.head()"
   ]
  },
  {
   "cell_type": "markdown",
   "id": "8a3e425f-da70-453a-a93a-5606d0a7f225",
   "metadata": {},
   "source": [
    "<h2>Part 4: Train a Linear Regression Model"
   ]
  },
  {
   "cell_type": "code",
   "execution_count": 13,
   "id": "efff6a7c-bb48-4a1f-936f-3247ef187860",
   "metadata": {},
   "outputs": [
    {
     "name": "stdout",
     "output_type": "stream",
     "text": [
      "R² Score: 0.15\n",
      "RMSE: 59164.82\n"
     ]
    }
   ],
   "source": [
    "X_train, X_test, y_train, y_test = train_test_split(X, y, test_size=0.2, random_state=42)\n",
    "\n",
    "model = LinearRegression()\n",
    "model.fit(X_train, y_train)\n",
    "\n",
    "y_pred = model.predict(X_test)\n",
    "\n",
    "print(f\"R² Score: {r2_score(y_test, y_pred):.2f}\")\n",
    "print(f\"RMSE: {np.sqrt(mean_squared_error(y_test, y_pred)):.2f}\")"
   ]
  },
  {
   "cell_type": "markdown",
   "id": "5064bccb-f15a-4710-b359-47e542ff2c20",
   "metadata": {},
   "source": [
    "<h2>Part 5: Predict 2024 Salaries"
   ]
  },
  {
   "cell_type": "code",
   "execution_count": 14,
   "id": "c75fc1f1-c193-43d2-9524-d83f6b0c8b6a",
   "metadata": {},
   "outputs": [
    {
     "name": "stdout",
     "output_type": "stream",
     "text": [
      "['EN' 'EX' 'MI' 'SE']\n"
     ]
    },
    {
     "data": {
      "text/html": [
       "<div>\n",
       "<style scoped>\n",
       "    .dataframe tbody tr th:only-of-type {\n",
       "        vertical-align: middle;\n",
       "    }\n",
       "\n",
       "    .dataframe tbody tr th {\n",
       "        vertical-align: top;\n",
       "    }\n",
       "\n",
       "    .dataframe thead th {\n",
       "        text-align: right;\n",
       "    }\n",
       "</style>\n",
       "<table border=\"1\" class=\"dataframe\">\n",
       "  <thead>\n",
       "    <tr style=\"text-align: right;\">\n",
       "      <th></th>\n",
       "      <th>Experience Level</th>\n",
       "      <th>Predicted 2024 Salary (USD)</th>\n",
       "    </tr>\n",
       "  </thead>\n",
       "  <tbody>\n",
       "    <tr>\n",
       "      <th>0</th>\n",
       "      <td>Entry</td>\n",
       "      <td>111694.914909</td>\n",
       "    </tr>\n",
       "    <tr>\n",
       "      <th>1</th>\n",
       "      <td>Mid</td>\n",
       "      <td>131967.434578</td>\n",
       "    </tr>\n",
       "    <tr>\n",
       "      <th>2</th>\n",
       "      <td>Senior</td>\n",
       "      <td>152239.954247</td>\n",
       "    </tr>\n",
       "    <tr>\n",
       "      <th>3</th>\n",
       "      <td>Executive</td>\n",
       "      <td>172512.473916</td>\n",
       "    </tr>\n",
       "  </tbody>\n",
       "</table>\n",
       "</div>"
      ],
      "text/plain": [
       "  Experience Level  Predicted 2024 Salary (USD)\n",
       "0            Entry                111694.914909\n",
       "1              Mid                131967.434578\n",
       "2           Senior                152239.954247\n",
       "3        Executive                172512.473916"
      ]
     },
     "execution_count": 14,
     "metadata": {},
     "output_type": "execute_result"
    }
   ],
   "source": [
    "print(le.classes_)\n",
    "\n",
    "future_data = pd.DataFrame({\n",
    "    'work_year': [2024, 2024, 2024, 2024],\n",
    "    'experience_level_encoded': [0, 1, 2, 3]  # EN, MI, SE, EX (adjust if needed)\n",
    "})\n",
    "\n",
    "predicted_salaries = model.predict(future_data)\n",
    "\n",
    "results = pd.DataFrame({\n",
    "    'Experience Level': ['Entry', 'Mid', 'Senior', 'Executive'],\n",
    "    'Predicted 2024 Salary (USD)': predicted_salaries\n",
    "})\n",
    "\n",
    "results\n"
   ]
  },
  {
   "cell_type": "markdown",
   "id": "d35795eb-d718-4a74-8007-225bcdabff1a",
   "metadata": {},
   "source": [
    "<h1>Part 6: Reflection "
   ]
  },
  {
   "cell_type": "markdown",
   "id": "2431e8a0-87d7-493f-a935-c2948959a2d2",
   "metadata": {},
   "source": [
    "<h1>1.Does your model make reasonable predictions? Why or why not?\n"
   ]
  },
  {
   "cell_type": "markdown",
   "id": "1b41430b-2940-4de4-b892-2202761bb857",
   "metadata": {},
   "source": [
    "<h2> Yes, The model predicts salaries rather accurately, as they rise with expertise and years of employment. The model is extremely basic, though, thus the forecasts are not particularly accurate."
   ]
  },
  {
   "cell_type": "markdown",
   "id": "54ebc2fb-8607-426b-a655-fabf866211ba",
   "metadata": {},
   "source": [
    "<h1> 2.What are the limitations of using only work_year and experience_level?"
   ]
  },
  {
   "cell_type": "markdown",
   "id": "7f7c3a9c-ee21-4dfe-a207-e588ee67cd5d",
   "metadata": {},
   "source": [
    "<h2>Using only work_year and experience_level has some limitations. It ignores other important factors like job title, location, or skills, which can also affect salary."
   ]
  },
  {
   "cell_type": "markdown",
   "id": "f1a5845a-b92a-45b6-a29b-7c98aec206c2",
   "metadata": {},
   "source": [
    "<h1> 3.How could you improve this model? (Think: more features, better encoding, etc.)"
   ]
  },
  {
   "cell_type": "markdown",
   "id": "2f784aec-70e3-43ff-b39e-10671ab752f8",
   "metadata": {},
   "source": [
    "<h2>In order to use it with a different set of codes, the remaining values are condensed into a different dataframe."
   ]
  },
  {
   "cell_type": "markdown",
   "id": "db64b238-e179-45b4-b4d3-3ae78c9162f5",
   "metadata": {},
   "source": [
    "<H1> 4.Why is R² not enough to trust your predictions?"
   ]
  },
  {
   "cell_type": "markdown",
   "id": "7d53390f-7dda-47da-b926-aa3dd63dff24",
   "metadata": {},
   "source": [
    "<h2>According to my research, R2 has a weak exploratory power, thus I can't completely trust or rely on its predictions."
   ]
  },
  {
   "cell_type": "code",
   "execution_count": null,
   "id": "eeaa7796-4f8c-42df-a970-90450f96fdbe",
   "metadata": {},
   "outputs": [],
   "source": []
  }
 ],
 "metadata": {
  "kernelspec": {
   "display_name": "Python 3 (ipykernel)",
   "language": "python",
   "name": "python3"
  },
  "language_info": {
   "codemirror_mode": {
    "name": "ipython",
    "version": 3
   },
   "file_extension": ".py",
   "mimetype": "text/x-python",
   "name": "python",
   "nbconvert_exporter": "python",
   "pygments_lexer": "ipython3",
   "version": "3.13.0"
  }
 },
 "nbformat": 4,
 "nbformat_minor": 5
}
